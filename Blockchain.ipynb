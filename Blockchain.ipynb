{
 "cells": [
  {
   "cell_type": "code",
   "execution_count": null,
   "metadata": {},
   "outputs": [],
   "source": [
    "# salting and hashing \n",
    "\n",
    "import hashlib\n",
    "import base64\n",
    "import uuid\n",
    "\n",
    "password = 'test_password'\n",
    "\n",
    "salt = uuid.uuid4().hex\n",
    "hashed_password = hashlib.sha512(password + salt).hexdigest()\n",
    "\n",
    "t_sha = hashlib.sha512()\n",
    "t_sha.update(password+salt)\n",
    "hashed_password =  base64.urlsafe_b64encode(t_sha.digest())\n",
    "\n"
   ]
  },
  {
   "cell_type": "code",
   "execution_count": null,
   "metadata": {},
   "outputs": [],
   "source": [
    "# blockchain\n",
    "\n",
    "to_btc = 1/1e8\n",
    "\n",
    "import blockchain\n",
    "from blockchain import blockexplorer as be\n",
    "\n",
    "Block = be.get_block('000000000000000000e6257899a5a7994ca3c81315af180273de34c75f9d8933')\n",
    "Transaction = be.get_tx('726962b93d0f233d144dc9c8ada3a49251df804a135e43df5e8ac8e33182f985')\n",
    "#exampleAddress = be.get_address('1KuWLoZuoJgz3N6sLoAwGth9XGm8YuFTGt')\n",
    "\n",
    "from datetime import datetime\n",
    "\n",
    "print('Unix time',Block.received_time)\n",
    "print('Time stamp',datetime.fromtimestamp(Block.received_time))\n",
    "\n",
    "tx_hash = Block.transactions[0].hash\n",
    "\n",
    "Transaction = be.get_tx(tx_hash)\n",
    "Transaction.outputs[0].value*to_btc\n",
    "\n",
    "pub_add = exampleTransaction.outputs[0].address\n",
    "\n",
    "Address = be.get_address(pub_add)\n",
    "\n",
    "last_tx = Address.transactions[0].outputs[0].value*to_btc\n",
    "datetime.fromtimestamp(Address.transactions[0].time)\n",
    "\n",
    "\n"
   ]
  },
  {
   "cell_type": "code",
   "execution_count": null,
   "metadata": {},
   "outputs": [],
   "source": [
    "from blockchain import exchangerates as er\n",
    "from blockchain import createwallet as cw\n",
    "\n",
    "from blockchain import statistics\n",
    "\n",
    "rates = er.get_ticker()\n",
    "\n",
    "usd_btc = rates['USD'].p15min\n",
    "\n",
    "stats = statistics.get()\n",
    "\n",
    "\n",
    "\n"
   ]
  },
  {
   "cell_type": "code",
   "execution_count": null,
   "metadata": {},
   "outputs": [],
   "source": [
    "stats.btc_mined"
   ]
  },
  {
   "cell_type": "code",
   "execution_count": null,
   "metadata": {},
   "outputs": [],
   "source": [
    "stats.estimated_transaction_volume_usd"
   ]
  },
  {
   "cell_type": "code",
   "execution_count": null,
   "metadata": {},
   "outputs": [],
   "source": [
    "stats.minutes_between_blocks"
   ]
  },
  {
   "cell_type": "code",
   "execution_count": null,
   "metadata": {},
   "outputs": [],
   "source": []
  },
  {
   "cell_type": "code",
   "execution_count": null,
   "metadata": {},
   "outputs": [],
   "source": []
  }
 ],
 "metadata": {
  "kernelspec": {
   "display_name": "Python 3",
   "language": "python",
   "name": "python3"
  },
  "language_info": {
   "codemirror_mode": {
    "name": "ipython",
    "version": 3
   },
   "file_extension": ".py",
   "mimetype": "text/x-python",
   "name": "python",
   "nbconvert_exporter": "python",
   "pygments_lexer": "ipython3",
   "version": "3.6.3"
  }
 },
 "nbformat": 4,
 "nbformat_minor": 2
}
